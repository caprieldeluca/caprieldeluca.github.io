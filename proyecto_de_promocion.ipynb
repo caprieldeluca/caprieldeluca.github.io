{
  "nbformat": 4,
  "nbformat_minor": 0,
  "metadata": {
    "colab": {
      "provenance": [],
      "authorship_tag": "ABX9TyOd00Hepqe2xuqdf9DFKthP",
      "include_colab_link": true
    },
    "kernelspec": {
      "name": "python3",
      "display_name": "Python 3"
    },
    "language_info": {
      "name": "python"
    }
  },
  "cells": [
    {
      "cell_type": "markdown",
      "metadata": {
        "id": "view-in-github",
        "colab_type": "text"
      },
      "source": [
        "<a href=\"https://colab.research.google.com/github/caprieldeluca/caprieldeluca.github.io/blob/main/proyecto_de_promocion.ipynb\" target=\"_parent\"><img src=\"https://colab.research.google.com/assets/colab-badge.svg\" alt=\"Open In Colab\"/></a>"
      ]
    },
    {
      "cell_type": "markdown",
      "source": [],
      "metadata": {
        "id": "LfWprwJb_5_k"
      }
    },
    {
      "cell_type": "code",
      "metadata": {
        "id": "hmxdGhhBh9_5",
        "colab": {
          "base_uri": "https://localhost:8080/"
        },
        "outputId": "838317cb-0610-46ad-9269-34d0d216798b"
      },
      "source": [
        "!apt-get update -qq\n",
        "!apt-get install -qq libproj-dev\n",
        "!pip install --upgrade --user pyproj"
      ],
      "execution_count": null,
      "outputs": [
        {
          "output_type": "stream",
          "name": "stdout",
          "text": [
            "Requirement already satisfied: pyproj in /usr/local/lib/python3.10/dist-packages (3.6.1)\n",
            "Requirement already satisfied: certifi in /usr/local/lib/python3.10/dist-packages (from pyproj) (2024.6.2)\n"
          ]
        }
      ]
    }
  ]
}